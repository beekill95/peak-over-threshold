{
 "metadata": {
  "language_info": {
   "codemirror_mode": {
    "name": "ipython",
    "version": 3
   },
   "file_extension": ".py",
   "mimetype": "text/x-python",
   "name": "python",
   "nbconvert_exporter": "python",
   "pygments_lexer": "ipython3",
   "version": "3.8.5-final"
  },
  "orig_nbformat": 2,
  "kernelspec": {
   "name": "python3",
   "display_name": "Python 3",
   "language": "python"
  }
 },
 "nbformat": 4,
 "nbformat_minor": 2,
 "cells": [
  {
   "cell_type": "code",
   "execution_count": 1,
   "metadata": {},
   "outputs": [],
   "source": [
    "# Packages\n",
    "import numpy as np\n",
    "import matplotlib.pyplot as plt \n",
    "\n",
    "from scipy.optimize import minimize \n",
    "from math import log"
   ]
  },
  {
   "cell_type": "code",
   "execution_count": 2,
   "metadata": {},
   "outputs": [],
   "source": [
    "# Parameters\n",
    "# eq - empirical quantile\n",
    "# mep - mean excess plot\n",
    "init_method = 'eq'\n",
    "init_level = 0.98\n",
    "epsilon = 1e-8\n",
    "num_candidate = 10"
   ]
  },
  {
   "cell_type": "code",
   "execution_count": 3,
   "metadata": {},
   "outputs": [],
   "source": [
    "# Algorithm\n",
    "def pot(data):\n",
    "    # Parameters\n",
    "    init_level = 0.98\n",
    "    epsilon = 1e-8\n",
    "    num_candidate = 10\n",
    "\n",
    "    # Init threshold\n",
    "    if init_method == 'eq':\n",
    "        temp = np.sort(data)\n",
    "        threshold = temp[int(init_level * data.size)]\n",
    "    elif init_method == 'mep':\n",
    "        threshold = mep(data)\n",
    "    \n",
    "    # Init Peaks\n",
    "    peaks = data[data > threshold] - threshold\n",
    "\n",
    "    # Fig\n",
    "    # print(threshold)\n",
    "    # fig, ax = plt.subplots(2)\n",
    "    # ax[0].plot(data)\n",
    "    # ax[1].plot(peaks)\n",
    "    # plt.show()\n",
    "\n",
    "    # Grimshaw\n",
    "    min = peaks.min()\n",
    "    max = peaks.max()\n",
    "    mean = peaks.mean()\n",
    "\n",
    "    print('min = {}\\nmax = {}\\nmean = {}'.format(min, max, mean))\n",
    "\n",
    "    a = -1/max\n",
    "\n",
    "    if abs(a) < 2 * epsilon:\n",
    "        epsilon = abs(a)/num_candidate \n",
    "    \n",
    "    a = a + epsilon\n",
    "    b = 2 * (mean - min) / (mean * min)\n",
    "    c = 2 * (mean - min) / (min ** 2)\n",
    "\n",
    "    print('epsilon = {}'.format(epsilon))\n",
    "    print('b = {}, c = {}'.format(b, c))\n",
    "\n",
    "    left = solve(lambda t: function(peaks, threshold), lambda t: dev_function(peaks, threshold), (a + epsilon, -epsilon), num_candidate, 'regular')\n",
    "    right = solve(lambda t: function(peaks, threshold), lambda t: dev_function(peaks, threshold), (b, c), num_candidate, 'regular')\n",
    "    candidates = np.concatenate((left, right))\n",
    "\n",
    "    gamma_best = 0\n",
    "    sigma_best = 0\n",
    "    ll_best = log_likelihood(peaks, gamma_best, sigma_best)\n",
    "\n",
    "    for candidate in candidates:\n",
    "        gamma = u(1 + z * peaks) - 1\n",
    "        sigma = gamma / z\n",
    "        ll = log_likelihood(peaks, gamma, sigma)\n",
    "        if ll > ll_best:\n",
    "            gamma_best = gamma\n",
    "            sigma_best = sigma\n",
    "            ll_best = ll\n",
    "\n",
    "    # Cal threshold\n",
    "    r = data.size * probability / peaks.size\n",
    "    if gamma != 0:\n",
    "        z = threshold + (sigma / gamma) * (pow(r, -gamma) - 1)\n",
    "    else:\n",
    "        z = threshold - sigma * log(r)\n",
    "\n",
    "    return z \n",
    "\n",
    "def function(y, threshold):\n",
    "    s = 1 + threshold * y\n",
    "    us = 1 + np.log(s).mean()\n",
    "    vs = np.mean(1/s)\n",
    "    return us * vs - 1\n",
    "\n",
    "def dev_function(y, threshold):\n",
    "    s = 1 + threshold * y\n",
    "    us = 1 + np.log(s).mean()\n",
    "    vs = np.mean(1/s)\n",
    "    dev_us = (1/threshold) * (1 - vs)\n",
    "    dev_vs = (1/threshold) * (-vs + np.mean(1/s ** 2))\n",
    "    return us * dev_vs + vs * dev_us\n",
    "\n",
    "def solve(function, dev_function, bounds, num_points, method):\n",
    "    if method == 'regular':\n",
    "        step = (bounds[1]-bounds[0]) / (num_points + 1)\n",
    "\n",
    "        print(bounds)\n",
    "        print(step)\n",
    "\n",
    "        x0 = np.arange(bounds[0] + step, bounds[1], step)\n",
    "    elif method == 'ramdom':\n",
    "        x0 = np.random.uniform(bounds[0], bounds[1], num_points)\n",
    "\n",
    "    def obj_function(x, function, dev_function):\n",
    "        g = 0\n",
    "        j = np.zeros(x.shape)\n",
    "        i = 0\n",
    "        for item in x:\n",
    "            fx = function(item)\n",
    "            g = g + fx ** 2\n",
    "            j[i] = 2 * fx * dev_function(item)\n",
    "            i += i\n",
    "        return g, j\n",
    "    \n",
    "    optimization = minimize(lambda x: obj_function(x, function, dev_function), x0, method='L-BFGS-B', jac=True, bounds=[bounds]*len(x0))\n",
    "    x = optimization.x\n",
    "    np.round(x, decimals=5) \n",
    "    return np.unique(x)"
   ]
  },
  {
   "cell_type": "code",
   "execution_count": 4,
   "metadata": {},
   "outputs": [
    {
     "output_type": "stream",
     "name": "stdout",
     "text": [
      "(20386,)\n"
     ]
    }
   ],
   "source": [
    "# Data\n",
    "data = np.fromfile('../data/example1.dat')\n",
    "print(data.shape)"
   ]
  },
  {
   "cell_type": "code",
   "execution_count": 5,
   "metadata": {},
   "outputs": [
    {
     "output_type": "stream",
     "name": "stdout",
     "text": [
      "min = 2.4733040147310453e+173\nmax = 1.6903554740103175e+178\nmean = 3.8791959042489633e+177\nepsilon = 5.915915411730114e-180\nb = 0.0, c = 0.0\n(-4.732732329384092e-179, -5.915915411730114e-180)\n3.7646734438282554e-180\n(0.0, 0.0)\n0.0\n"
     ]
    },
    {
     "output_type": "error",
     "ename": "ValueError",
     "evalue": "arange: cannot compute length",
     "traceback": [
      "\u001b[0;31m---------------------------------------------------------------------------\u001b[0m",
      "\u001b[0;31mValueError\u001b[0m                                Traceback (most recent call last)",
      "\u001b[0;32m<ipython-input-5-88e667c04079>\u001b[0m in \u001b[0;36m<module>\u001b[0;34m\u001b[0m\n\u001b[1;32m      1\u001b[0m \u001b[0;31m# Test\u001b[0m\u001b[0;34m\u001b[0m\u001b[0;34m\u001b[0m\u001b[0;34m\u001b[0m\u001b[0m\n\u001b[0;32m----> 2\u001b[0;31m \u001b[0moutput\u001b[0m \u001b[0;34m=\u001b[0m \u001b[0mpot\u001b[0m\u001b[0;34m(\u001b[0m\u001b[0mdata\u001b[0m\u001b[0;34m)\u001b[0m\u001b[0;34m\u001b[0m\u001b[0;34m\u001b[0m\u001b[0m\n\u001b[0m",
      "\u001b[0;32m<ipython-input-3-a5de4e30e2e1>\u001b[0m in \u001b[0;36mpot\u001b[0;34m(data)\u001b[0m\n\u001b[1;32m     43\u001b[0m \u001b[0;34m\u001b[0m\u001b[0m\n\u001b[1;32m     44\u001b[0m     \u001b[0mleft\u001b[0m \u001b[0;34m=\u001b[0m \u001b[0msolve\u001b[0m\u001b[0;34m(\u001b[0m\u001b[0;32mlambda\u001b[0m \u001b[0mt\u001b[0m\u001b[0;34m:\u001b[0m \u001b[0mfunction\u001b[0m\u001b[0;34m(\u001b[0m\u001b[0mpeaks\u001b[0m\u001b[0;34m,\u001b[0m \u001b[0mthreshold\u001b[0m\u001b[0;34m)\u001b[0m\u001b[0;34m,\u001b[0m \u001b[0;32mlambda\u001b[0m \u001b[0mt\u001b[0m\u001b[0;34m:\u001b[0m \u001b[0mdev_function\u001b[0m\u001b[0;34m(\u001b[0m\u001b[0mpeaks\u001b[0m\u001b[0;34m,\u001b[0m \u001b[0mthreshold\u001b[0m\u001b[0;34m)\u001b[0m\u001b[0;34m,\u001b[0m \u001b[0;34m(\u001b[0m\u001b[0ma\u001b[0m \u001b[0;34m+\u001b[0m \u001b[0mepsilon\u001b[0m\u001b[0;34m,\u001b[0m \u001b[0;34m-\u001b[0m\u001b[0mepsilon\u001b[0m\u001b[0;34m)\u001b[0m\u001b[0;34m,\u001b[0m \u001b[0mnum_candidate\u001b[0m\u001b[0;34m,\u001b[0m \u001b[0;34m'regular'\u001b[0m\u001b[0;34m)\u001b[0m\u001b[0;34m\u001b[0m\u001b[0;34m\u001b[0m\u001b[0m\n\u001b[0;32m---> 45\u001b[0;31m     \u001b[0mright\u001b[0m \u001b[0;34m=\u001b[0m \u001b[0msolve\u001b[0m\u001b[0;34m(\u001b[0m\u001b[0;32mlambda\u001b[0m \u001b[0mt\u001b[0m\u001b[0;34m:\u001b[0m \u001b[0mfunction\u001b[0m\u001b[0;34m(\u001b[0m\u001b[0mpeaks\u001b[0m\u001b[0;34m,\u001b[0m \u001b[0mthreshold\u001b[0m\u001b[0;34m)\u001b[0m\u001b[0;34m,\u001b[0m \u001b[0;32mlambda\u001b[0m \u001b[0mt\u001b[0m\u001b[0;34m:\u001b[0m \u001b[0mdev_function\u001b[0m\u001b[0;34m(\u001b[0m\u001b[0mpeaks\u001b[0m\u001b[0;34m,\u001b[0m \u001b[0mthreshold\u001b[0m\u001b[0;34m)\u001b[0m\u001b[0;34m,\u001b[0m \u001b[0;34m(\u001b[0m\u001b[0mb\u001b[0m\u001b[0;34m,\u001b[0m \u001b[0mc\u001b[0m\u001b[0;34m)\u001b[0m\u001b[0;34m,\u001b[0m \u001b[0mnum_candidate\u001b[0m\u001b[0;34m,\u001b[0m \u001b[0;34m'regular'\u001b[0m\u001b[0;34m)\u001b[0m\u001b[0;34m\u001b[0m\u001b[0;34m\u001b[0m\u001b[0m\n\u001b[0m\u001b[1;32m     46\u001b[0m     \u001b[0mcandidates\u001b[0m \u001b[0;34m=\u001b[0m \u001b[0mnp\u001b[0m\u001b[0;34m.\u001b[0m\u001b[0mconcatenate\u001b[0m\u001b[0;34m(\u001b[0m\u001b[0;34m(\u001b[0m\u001b[0mleft\u001b[0m\u001b[0;34m,\u001b[0m \u001b[0mright\u001b[0m\u001b[0;34m)\u001b[0m\u001b[0;34m)\u001b[0m\u001b[0;34m\u001b[0m\u001b[0;34m\u001b[0m\u001b[0m\n\u001b[1;32m     47\u001b[0m \u001b[0;34m\u001b[0m\u001b[0m\n",
      "\u001b[0;32m<ipython-input-3-a5de4e30e2e1>\u001b[0m in \u001b[0;36msolve\u001b[0;34m(function, dev_function, bounds, num_points, method)\u001b[0m\n\u001b[1;32m     89\u001b[0m         \u001b[0mprint\u001b[0m\u001b[0;34m(\u001b[0m\u001b[0mstep\u001b[0m\u001b[0;34m)\u001b[0m\u001b[0;34m\u001b[0m\u001b[0;34m\u001b[0m\u001b[0m\n\u001b[1;32m     90\u001b[0m \u001b[0;34m\u001b[0m\u001b[0m\n\u001b[0;32m---> 91\u001b[0;31m         \u001b[0mx0\u001b[0m \u001b[0;34m=\u001b[0m \u001b[0mnp\u001b[0m\u001b[0;34m.\u001b[0m\u001b[0marange\u001b[0m\u001b[0;34m(\u001b[0m\u001b[0mbounds\u001b[0m\u001b[0;34m[\u001b[0m\u001b[0;36m0\u001b[0m\u001b[0;34m]\u001b[0m \u001b[0;34m+\u001b[0m \u001b[0mstep\u001b[0m\u001b[0;34m,\u001b[0m \u001b[0mbounds\u001b[0m\u001b[0;34m[\u001b[0m\u001b[0;36m1\u001b[0m\u001b[0;34m]\u001b[0m\u001b[0;34m,\u001b[0m \u001b[0mstep\u001b[0m\u001b[0;34m)\u001b[0m\u001b[0;34m\u001b[0m\u001b[0;34m\u001b[0m\u001b[0m\n\u001b[0m\u001b[1;32m     92\u001b[0m     \u001b[0;32melif\u001b[0m \u001b[0mmethod\u001b[0m \u001b[0;34m==\u001b[0m \u001b[0;34m'ramdom'\u001b[0m\u001b[0;34m:\u001b[0m\u001b[0;34m\u001b[0m\u001b[0;34m\u001b[0m\u001b[0m\n\u001b[1;32m     93\u001b[0m         \u001b[0mx0\u001b[0m \u001b[0;34m=\u001b[0m \u001b[0mnp\u001b[0m\u001b[0;34m.\u001b[0m\u001b[0mrandom\u001b[0m\u001b[0;34m.\u001b[0m\u001b[0muniform\u001b[0m\u001b[0;34m(\u001b[0m\u001b[0mbounds\u001b[0m\u001b[0;34m[\u001b[0m\u001b[0;36m0\u001b[0m\u001b[0;34m]\u001b[0m\u001b[0;34m,\u001b[0m \u001b[0mbounds\u001b[0m\u001b[0;34m[\u001b[0m\u001b[0;36m1\u001b[0m\u001b[0;34m]\u001b[0m\u001b[0;34m,\u001b[0m \u001b[0mnum_points\u001b[0m\u001b[0;34m)\u001b[0m\u001b[0;34m\u001b[0m\u001b[0;34m\u001b[0m\u001b[0m\n",
      "\u001b[0;31mValueError\u001b[0m: arange: cannot compute length"
     ]
    }
   ],
   "source": [
    "# Test\n",
    "output = pot(data)"
   ]
  }
 ]
}